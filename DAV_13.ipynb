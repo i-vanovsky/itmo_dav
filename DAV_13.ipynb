{
  "nbformat": 4,
  "nbformat_minor": 0,
  "metadata": {
    "colab": {
      "provenance": []
    },
    "kernelspec": {
      "name": "python3",
      "display_name": "Python 3"
    },
    "language_info": {
      "name": "python"
    }
  },
  "cells": [
    {
      "cell_type": "code",
      "execution_count": 1,
      "metadata": {
        "id": "Rr9C-9RJCVsK"
      },
      "outputs": [],
      "source": [
        "import numpy as np"
      ]
    },
    {
      "cell_type": "markdown",
      "source": [
        "П - покупательский спрос, А - стратегия сбыта. В матрице объем оборота. Состояния спроса представлены вероятносятями probs"
      ],
      "metadata": {
        "id": "AQBwt-uUDXnr"
      }
    },
    {
      "cell_type": "code",
      "source": [
        "matrix = [\n",
        "    [33,10,20,26.5],\n",
        "    [50,67,11.5,25],\n",
        "    [23.5,35,40,58.5]\n",
        "]\n",
        "\n",
        "matrix = np.array(matrix)\n",
        "\n",
        "probs = [0.3, 0.2, 0.4, 0.1]\n",
        "probs = np.array(probs)\n",
        "# alf = 0.5"
      ],
      "metadata": {
        "id": "wnooxMKjCdUX"
      },
      "execution_count": 3,
      "outputs": []
    },
    {
      "cell_type": "markdown",
      "source": [
        "# Байес"
      ],
      "metadata": {
        "id": "7hDEhOu8DDfy"
      }
    },
    {
      "cell_type": "markdown",
      "source": [
        "По критерию Байеса за оптимальные принимается та стратегия (чистая) Ai, при которой максимизируется средний выигрыш."
      ],
      "metadata": {
        "id": "5AFpbX99D1EB"
      }
    },
    {
      "cell_type": "code",
      "source": [
        "# умножим спрос на вероятность\n",
        "matrix_n = matrix * probs[:, np.newaxis].T\n",
        "matrix_n"
      ],
      "metadata": {
        "colab": {
          "base_uri": "https://localhost:8080/"
        },
        "id": "H78R0-SSEf0P",
        "outputId": "4026eb2a-626f-4910-eb31-99535be4ab1f"
      },
      "execution_count": 5,
      "outputs": [
        {
          "output_type": "execute_result",
          "data": {
            "text/plain": [
              "array([[ 9.9 ,  2.  ,  8.  ,  2.65],\n",
              "       [15.  , 13.4 ,  4.6 ,  2.5 ],\n",
              "       [ 7.05,  7.  , 16.  ,  5.85]])"
            ]
          },
          "metadata": {},
          "execution_count": 5
        }
      ]
    },
    {
      "cell_type": "code",
      "source": [
        "# Складываем спрос\n",
        "[sum(x) for x in matrix_n]"
      ],
      "metadata": {
        "colab": {
          "base_uri": "https://localhost:8080/"
        },
        "id": "m4vYHKDQE62-",
        "outputId": "af401cd8-d165-462b-b0d8-683f95c8a588"
      },
      "execution_count": 7,
      "outputs": [
        {
          "output_type": "execute_result",
          "data": {
            "text/plain": [
              "[22.549999999999997, 35.5, 35.9]"
            ]
          },
          "metadata": {},
          "execution_count": 7
        }
      ]
    },
    {
      "cell_type": "code",
      "source": [
        "# берем максимальный\n",
        "max([sum(x) for x in matrix_n])"
      ],
      "metadata": {
        "colab": {
          "base_uri": "https://localhost:8080/"
        },
        "id": "gw22SS5IFM6Q",
        "outputId": "0bd2115b-e265-4be3-e689-90aa47bc086b"
      },
      "execution_count": 11,
      "outputs": [
        {
          "output_type": "execute_result",
          "data": {
            "text/plain": [
              "35.9"
            ]
          },
          "metadata": {},
          "execution_count": 11
        }
      ]
    },
    {
      "cell_type": "markdown",
      "source": [
        "Лучшая стратегия 3"
      ],
      "metadata": {
        "id": "zc6HxyUmFZVR"
      }
    },
    {
      "cell_type": "markdown",
      "source": [
        "# Лаплас"
      ],
      "metadata": {
        "id": "ZQBa1h_oF7Bc"
      }
    },
    {
      "cell_type": "markdown",
      "source": [
        "Если вероятности состояний природы правдоподобны, для их оценки используют принцип недостаточного основания Лапласа, согласно которого все состояния природы полагаются равновероятными \\\\\n",
        "q1 = q2 = ... = qn = 1/n.\n",
        "qi = 1/4"
      ],
      "metadata": {
        "id": "xVhwB_7KF-WF"
      }
    },
    {
      "cell_type": "code",
      "source": [
        "probs_l = np.array([1/len(matrix[0])] * len(matrix[0]))\n",
        "probs_l"
      ],
      "metadata": {
        "colab": {
          "base_uri": "https://localhost:8080/"
        },
        "id": "ygzeCBp4R3LF",
        "outputId": "acd5a296-d60c-4a18-f5c9-ecb85cbca340"
      },
      "execution_count": 14,
      "outputs": [
        {
          "output_type": "execute_result",
          "data": {
            "text/plain": [
              "array([0.25, 0.25, 0.25, 0.25])"
            ]
          },
          "metadata": {},
          "execution_count": 14
        }
      ]
    },
    {
      "cell_type": "code",
      "source": [
        "matrix_n = matrix * probs_l[:, np.newaxis].T\n",
        "matrix_n"
      ],
      "metadata": {
        "colab": {
          "base_uri": "https://localhost:8080/"
        },
        "id": "098OKQ1GSCQc",
        "outputId": "e88a7e73-450d-437e-e2a9-f1de8e2322c4"
      },
      "execution_count": 15,
      "outputs": [
        {
          "output_type": "execute_result",
          "data": {
            "text/plain": [
              "array([[ 8.25 ,  2.5  ,  5.   ,  6.625],\n",
              "       [12.5  , 16.75 ,  2.875,  6.25 ],\n",
              "       [ 5.875,  8.75 , 10.   , 14.625]])"
            ]
          },
          "metadata": {},
          "execution_count": 15
        }
      ]
    },
    {
      "cell_type": "code",
      "source": [
        "# Складываем спрос\n",
        "[sum(x) for x in matrix_n]"
      ],
      "metadata": {
        "colab": {
          "base_uri": "https://localhost:8080/"
        },
        "id": "pwIBOhnFSemF",
        "outputId": "0011f14d-ee85-4d49-9c28-08704b602238"
      },
      "execution_count": 17,
      "outputs": [
        {
          "output_type": "execute_result",
          "data": {
            "text/plain": [
              "[22.375, 38.375, 39.25]"
            ]
          },
          "metadata": {},
          "execution_count": 17
        }
      ]
    },
    {
      "cell_type": "code",
      "source": [
        "# берем максимальный\n",
        "max([sum(x) for x in matrix_n])"
      ],
      "metadata": {
        "colab": {
          "base_uri": "https://localhost:8080/"
        },
        "id": "1XZAUFAcSMnc",
        "outputId": "ab918a98-fa21-43d7-82b9-d4110386ce12"
      },
      "execution_count": 16,
      "outputs": [
        {
          "output_type": "execute_result",
          "data": {
            "text/plain": [
              "39.25"
            ]
          },
          "metadata": {},
          "execution_count": 16
        }
      ]
    },
    {
      "cell_type": "markdown",
      "source": [
        "# Вальд"
      ],
      "metadata": {
        "id": "eBahHD8ISqad"
      }
    },
    {
      "cell_type": "markdown",
      "source": [
        "По критерию Вальда за оптимальную принимается чистая стратегия, которая в наихудших условиях гарантирует максимальный выигрыш, т.е.\n",
        "a = max(min aij)\n",
        "Критерий Вальда ориентирует статистику на самые неблагоприятные состояния природы, т.е. этот критерий выражает пессимистическую оценку ситуации."
      ],
      "metadata": {
        "id": "Z4FDEpuySs8M"
      }
    },
    {
      "cell_type": "code",
      "source": [
        "[min(x) for x in matrix]"
      ],
      "metadata": {
        "colab": {
          "base_uri": "https://localhost:8080/"
        },
        "id": "aVqNU73RS8Q7",
        "outputId": "709aad8a-a9bb-4f1c-aa4d-7d71ccc08728"
      },
      "execution_count": 18,
      "outputs": [
        {
          "output_type": "execute_result",
          "data": {
            "text/plain": [
              "[10.0, 11.5, 23.5]"
            ]
          },
          "metadata": {},
          "execution_count": 18
        }
      ]
    },
    {
      "cell_type": "markdown",
      "source": [
        "# Севидж"
      ],
      "metadata": {
        "id": "IaRmRXhrTobE"
      }
    },
    {
      "cell_type": "markdown",
      "source": [
        "Критерий минимального риска Севиджа рекомендует выбирать в качестве оптимальной стратегии ту, при которой величина максимального риска минимизируется в наихудших условиях, т.е. обеспечивается:\n",
        "a = min(max rij)\n",
        "Критерий Сэвиджа ориентирует статистику на самые неблагоприятные состояния природы, т.е. этот критерий выражает пессимистическую оценку ситуации.\n",
        "Находим матрицу рисков.\n",
        "Риск – мера несоответствия между разными возможными результатами принятия определенных стратегий. Максимальный выигрыш в j-м столбце bj = max(aij) характеризует благоприятность состояния природы.\n",
        "1. Рассчитываем 1-й столбец матрицы рисков.\n",
        "r11 = 50 - 33 = 17; r21 = 50 - 50 = 0; r31 = 50 - 23.5 = 26.5;  и т.д"
      ],
      "metadata": {
        "id": "mybZNIWoT0MZ"
      }
    },
    {
      "cell_type": "code",
      "source": [
        "# максимумы в стобцах\n",
        "max_values = matrix.max(axis=0)\n",
        "max_values"
      ],
      "metadata": {
        "colab": {
          "base_uri": "https://localhost:8080/"
        },
        "id": "NDaohhxLT8Zp",
        "outputId": "42d8f1df-a574-4522-d41d-da8f69d396f0"
      },
      "execution_count": 21,
      "outputs": [
        {
          "output_type": "execute_result",
          "data": {
            "text/plain": [
              "array([50. , 67. , 40. , 58.5])"
            ]
          },
          "metadata": {},
          "execution_count": 21
        }
      ]
    },
    {
      "cell_type": "code",
      "source": [
        "# из максимального выигрыша в каждом столбце вычитаем и значения столбца. и берем максимум для каждой строки. Берем минимальное значение, как лучшую стратегию\n",
        "[max(x) for x in max_values - matrix]"
      ],
      "metadata": {
        "colab": {
          "base_uri": "https://localhost:8080/"
        },
        "id": "MmEtfQA3UPvC",
        "outputId": "54b1cec8-7f33-49ae-a616-865d2a9af48a"
      },
      "execution_count": 23,
      "outputs": [
        {
          "output_type": "execute_result",
          "data": {
            "text/plain": [
              "[57.0, 33.5, 32.0]"
            ]
          },
          "metadata": {},
          "execution_count": 23
        }
      ]
    },
    {
      "cell_type": "markdown",
      "source": [
        "# Гурвиц"
      ],
      "metadata": {
        "id": "r_WB6F43WNY0"
      }
    },
    {
      "cell_type": "markdown",
      "source": [
        "Критерий Гурвица является критерием пессимизма - оптимизма. За (оптимальную принимается та стратегия, для которой выполняется соотношение:\n",
        "max(si)\n",
        "где si = y min(aij) + (1-y)max(aij)\n",
        "При y = 1 получим критерий Вальде, при y = 0 получим – оптимистический критерий (максимакс).\n",
        "Критерий Гурвица учитывает возможность как наихудшего, так и наилучшего для человека поведения природы. Как выбирается y? Чем хуже последствия ошибочных решений, тем больше желание застраховаться от ошибок, тем y ближе к 1.\n",
        "Рассчитываем si.\n",
        "s1 = 0.5•10+(1-0.5)•33 = 21.5 и т.д"
      ],
      "metadata": {
        "id": "Ugus-EToWkEj"
      }
    },
    {
      "cell_type": "code",
      "source": [
        "matrix.tolist()"
      ],
      "metadata": {
        "colab": {
          "base_uri": "https://localhost:8080/"
        },
        "id": "fALtYnxYXJpU",
        "outputId": "572c1685-6ad2-48a2-a1bd-4efd714cf8e6"
      },
      "execution_count": 26,
      "outputs": [
        {
          "output_type": "execute_result",
          "data": {
            "text/plain": [
              "[[33.0, 10.0, 20.0, 26.5], [50.0, 67.0, 11.5, 25.0], [23.5, 35.0, 40.0, 58.5]]"
            ]
          },
          "metadata": {},
          "execution_count": 26
        }
      ]
    },
    {
      "cell_type": "code",
      "source": [
        "y = 0.5\n",
        "[y*min(x)+(1-y)*max(x) for x in matrix]"
      ],
      "metadata": {
        "colab": {
          "base_uri": "https://localhost:8080/"
        },
        "id": "Hr_4n62UWjnb",
        "outputId": "ad9e0d0b-2cc6-4fa1-de03-507eb4fc0687"
      },
      "execution_count": 29,
      "outputs": [
        {
          "output_type": "execute_result",
          "data": {
            "text/plain": [
              "[21.5, 39.25, 41.0]"
            ]
          },
          "metadata": {},
          "execution_count": 29
        }
      ]
    }
  ]
}