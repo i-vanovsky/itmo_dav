{
  "nbformat": 4,
  "nbformat_minor": 0,
  "metadata": {
    "colab": {
      "provenance": []
    },
    "kernelspec": {
      "name": "python3",
      "display_name": "Python 3"
    },
    "language_info": {
      "name": "python"
    }
  },
  "cells": [
    {
      "cell_type": "code",
      "execution_count": 1,
      "metadata": {
        "id": "oTVoFZzMRBq4"
      },
      "outputs": [],
      "source": [
        "# matrix = [[1.0, 2.0, 3.5, 3.0, 4.0], [2.5, 2.0, 1.5, 2.0, 1.0], [2.5, 2.0, 3.0, 1.0, 2.0], [4.0, 3.5, 3.5, 4.0, 1.0]]"
      ]
    },
    {
      "cell_type": "code",
      "source": [
        "with open('matrix.txt') as f:\n",
        "    matrix = [list(map(float, row.split())) for row in f.readlines()]\n",
        "matrix"
      ],
      "metadata": {
        "colab": {
          "base_uri": "https://localhost:8080/"
        },
        "id": "AGT5rEZjWmc1",
        "outputId": "1e34c2c4-d94e-4eb7-ed80-7dffabccfe43"
      },
      "execution_count": 23,
      "outputs": [
        {
          "output_type": "execute_result",
          "data": {
            "text/plain": [
              "[[1.0, 2.0, 3.5, 3.0, 4.0],\n",
              " [2.5, 2.0, 1.5, 2.0, 1.0],\n",
              " [2.5, 2.0, 3.0, 1.0, 2.0],\n",
              " [4.0, 3.5, 3.5, 4.0, 1.0]]"
            ]
          },
          "metadata": {},
          "execution_count": 23
        }
      ]
    },
    {
      "cell_type": "code",
      "source": [
        "import numpy as np\n",
        "\n",
        "matrix = np.array(matrix)\n",
        "B = matrix@matrix.T\n",
        "C = matrix.T@matrix"
      ],
      "metadata": {
        "id": "EPxhMFdTRfov"
      },
      "execution_count": 24,
      "outputs": []
    },
    {
      "cell_type": "code",
      "source": [
        "B"
      ],
      "metadata": {
        "colab": {
          "base_uri": "https://localhost:8080/"
        },
        "id": "UisYXhYpRhdG",
        "outputId": "c6407313-f328-47af-820c-c0e3ef703ba2"
      },
      "execution_count": 25,
      "outputs": [
        {
          "output_type": "execute_result",
          "data": {
            "text/plain": [
              "array([[42.25, 21.75, 28.  , 39.25],\n",
              "       [21.75, 17.5 , 18.75, 31.25],\n",
              "       [28.  , 18.75, 24.25, 33.5 ],\n",
              "       [39.25, 31.25, 33.5 , 57.5 ]])"
            ]
          },
          "metadata": {},
          "execution_count": 25
        }
      ]
    },
    {
      "cell_type": "code",
      "source": [
        "C"
      ],
      "metadata": {
        "colab": {
          "base_uri": "https://localhost:8080/"
        },
        "id": "lq2d6hA3RjvO",
        "outputId": "1165bfe2-d818-4216-be0d-522d3f74f00d"
      },
      "execution_count": 4,
      "outputs": [
        {
          "output_type": "execute_result",
          "data": {
            "text/plain": [
              "array([[29.5 , 26.  , 28.75, 26.5 , 15.5 ],\n",
              "       [26.  , 24.25, 28.25, 26.  , 17.5 ],\n",
              "       [28.75, 28.25, 35.75, 30.5 , 25.  ],\n",
              "       [26.5 , 26.  , 30.5 , 30.  , 20.  ],\n",
              "       [15.5 , 17.5 , 25.  , 20.  , 22.  ]])"
            ]
          },
          "metadata": {},
          "execution_count": 4
        }
      ]
    },
    {
      "cell_type": "code",
      "source": [
        "row_prod_b = np.prod(B,axis=1)\n",
        "row_prod_b"
      ],
      "metadata": {
        "colab": {
          "base_uri": "https://localhost:8080/"
        },
        "id": "K4mtJtECSBqO",
        "outputId": "e117b807-47cb-491e-dc3b-542e17965d5e"
      },
      "execution_count": 19,
      "outputs": [
        {
          "output_type": "execute_result",
          "data": {
            "text/plain": [
              "array([1009912.3125   ,  223022.4609375,  426496.875    , 2362666.015625 ])"
            ]
          },
          "metadata": {},
          "execution_count": 19
        }
      ]
    },
    {
      "cell_type": "code",
      "source": [
        "# коэффициенты обобщенной оценки объектов\n",
        "ga = np.power(row_prod_b, 1/len(B))\n",
        "cga = ga / np.sum(ga)\n",
        "cga"
      ],
      "metadata": {
        "colab": {
          "base_uri": "https://localhost:8080/"
        },
        "id": "yeNbi2bkSxfM",
        "outputId": "f5ec4bc0-908d-45f2-e85c-22fec846219f"
      },
      "execution_count": 27,
      "outputs": [
        {
          "output_type": "execute_result",
          "data": {
            "text/plain": [
              "array([0.26821207, 0.18386309, 0.21621527, 0.33170956])"
            ]
          },
          "metadata": {},
          "execution_count": 27
        }
      ]
    },
    {
      "cell_type": "code",
      "source": [
        "# коэффициенты компетентности экспертов\n",
        "row_prod_с = np.prod(C,axis=1)\n",
        "ec = np.power(row_prod_с, 1/len(C))\n",
        "cec = ec / np.sum(ec)\n",
        "cec"
      ],
      "metadata": {
        "colab": {
          "base_uri": "https://localhost:8080/"
        },
        "id": "PYV1FfKXTqr1",
        "outputId": "b5d489e9-7a22-437f-8738-6efdfd5c2fbc"
      },
      "execution_count": 29,
      "outputs": [
        {
          "output_type": "execute_result",
          "data": {
            "text/plain": [
              "array([0.19829562, 0.193934  , 0.23710756, 0.21185808, 0.15880474])"
            ]
          },
          "metadata": {},
          "execution_count": 29
        }
      ]
    },
    {
      "cell_type": "code",
      "source": [
        "with open('result.txt', 'w') as file:\n",
        "    file.write(\"Коэффициенты обобщенной оценки объектов:\\n\")\n",
        "    np.savetxt(file, cga, fmt='%.4f', newline=' ')\n",
        "\n",
        "    file.write(\"\\n\\nКоэффициенты компетентности экспертов:\\n\")\n",
        "    np.savetxt(file, cec, fmt='%.4f', newline=' ')"
      ],
      "metadata": {
        "id": "ypAYRSsqXy1O"
      },
      "execution_count": 30,
      "outputs": []
    }
  ]
}