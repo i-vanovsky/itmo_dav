{
  "nbformat": 4,
  "nbformat_minor": 0,
  "metadata": {
    "colab": {
      "provenance": []
    },
    "kernelspec": {
      "name": "python3",
      "display_name": "Python 3"
    },
    "language_info": {
      "name": "python"
    }
  },
  "cells": [
    {
      "cell_type": "markdown",
      "source": [
        "# Видео для вдохновения\n",
        "1. https://www.youtube.com/watch?v=_7vFY3JUhn0\n",
        "2. https://www.youtube.com/watch?v=Y0m4hVQztD4"
      ],
      "metadata": {
        "id": "rzuCbzi_Eqy9"
      }
    },
    {
      "cell_type": "code",
      "execution_count": 53,
      "metadata": {
        "id": "ffspxKSKK6_d"
      },
      "outputs": [],
      "source": [
        "import pandas as pd\n",
        "import numpy as np\n",
        "import re\n",
        "import math"
      ]
    },
    {
      "cell_type": "markdown",
      "source": [
        "# Парсим файл"
      ],
      "metadata": {
        "id": "fr74z83wcB-e"
      }
    },
    {
      "cell_type": "code",
      "source": [
        "# Считаем файл\n",
        "\n",
        "with open('DAV_4.txt', 'r') as file:\n",
        "    lines = file.read().split('\\n')"
      ],
      "metadata": {
        "id": "J6MSaSc_LIg2"
      },
      "execution_count": 54,
      "outputs": []
    },
    {
      "cell_type": "code",
      "source": [
        "lines"
      ],
      "metadata": {
        "colab": {
          "base_uri": "https://localhost:8080/"
        },
        "id": "P6-M4ggkLj1S",
        "outputId": "87b46ec8-4143-4638-e30c-d135f0e2c706"
      },
      "execution_count": 55,
      "outputs": [
        {
          "output_type": "execute_result",
          "data": {
            "text/plain": [
              "['max',\n",
              " '4x_1+5x_2',\n",
              " '2x_1+4x_2 <= 560',\n",
              " '1x_1+1x_2 <= 170',\n",
              " '2x_1+1x_2 <= 300']"
            ]
          },
          "metadata": {},
          "execution_count": 55
        }
      ]
    },
    {
      "cell_type": "code",
      "source": [
        "# Функция для парсинга выражения\n",
        "def str_to_arr(str):\n",
        "  drop_smb = re.sub(r'x_\\d+', '', str)\n",
        "  tokens = re.findall(r'[+-]?\\d+', drop_smb)\n",
        "  numbers = [int(token) for token in tokens]\n",
        "  arr = np.array(numbers)\n",
        "  return arr"
      ],
      "metadata": {
        "id": "ShOGAr3_L_zT"
      },
      "execution_count": 56,
      "outputs": []
    },
    {
      "cell_type": "code",
      "source": [
        "str_to_arr(lines[1])"
      ],
      "metadata": {
        "colab": {
          "base_uri": "https://localhost:8080/"
        },
        "id": "SVMy-mJNMikE",
        "outputId": "5729ab9a-572e-4a47-aa29-2dc2bf7848f4"
      },
      "execution_count": 57,
      "outputs": [
        {
          "output_type": "execute_result",
          "data": {
            "text/plain": [
              "array([4, 5])"
            ]
          },
          "metadata": {},
          "execution_count": 57
        }
      ]
    },
    {
      "cell_type": "code",
      "source": [
        "# Берем первую строку (ЦФ)\n",
        "target = str_to_arr(lines[1])\n",
        "if lines[0] == 'min':\n",
        "    target = -target\n",
        "\n",
        "vars = len(target)"
      ],
      "metadata": {
        "id": "Tzj6hjWqNlvw"
      },
      "execution_count": 58,
      "outputs": []
    },
    {
      "cell_type": "code",
      "source": [
        "# Из ограничений делаем функции (массив и ограничение)\n",
        "add_vars = 0\n",
        "def restr_to_func(restr):\n",
        "  splitted = restr.split(' ')\n",
        "  rs = float(splitted[-1])\n",
        "  restr = str_to_arr(splitted[0])\n",
        "  for i in range(add_vars):\n",
        "    restr = np.append(restr, 0)\n",
        "\n",
        "  return restr, rs\n",
        "\n",
        "\n",
        "all_restr = []\n",
        "all_rs = []\n",
        "for i in range(len(lines) - 2):\n",
        "    restr = lines[i+2]\n",
        "    if '>=' in restr:\n",
        "        restr, rs = restr_to_func(restr)\n",
        "        all_rs.append(rs)\n",
        "        restr = np.append(restr, -1)\n",
        "        add_vars += 1\n",
        "    elif '<=' in restr:\n",
        "        restr, rs = restr_to_func(restr)\n",
        "        all_rs.append(rs)\n",
        "        restr = np.append(restr, +1)\n",
        "        add_vars += 1\n",
        "    else:\n",
        "        restr = restr_to_func(restr)\n",
        "    all_restr.append(restr)"
      ],
      "metadata": {
        "id": "oOPMxHv8OZge"
      },
      "execution_count": 59,
      "outputs": []
    },
    {
      "cell_type": "code",
      "source": [
        "all_restr"
      ],
      "metadata": {
        "colab": {
          "base_uri": "https://localhost:8080/"
        },
        "id": "lvkOvWttT_u5",
        "outputId": "72efd29d-5027-4930-9058-a69f32bcaecf"
      },
      "execution_count": 60,
      "outputs": [
        {
          "output_type": "execute_result",
          "data": {
            "text/plain": [
              "[array([2, 4, 1]), array([1, 1, 0, 1]), array([2, 1, 0, 0, 1])]"
            ]
          },
          "metadata": {},
          "execution_count": 60
        }
      ]
    },
    {
      "cell_type": "code",
      "source": [
        "all_rs"
      ],
      "metadata": {
        "colab": {
          "base_uri": "https://localhost:8080/"
        },
        "id": "T7meT4rKWpY8",
        "outputId": "b2c236c0-f53b-4860-d2be-c0e2e861bee0"
      },
      "execution_count": 61,
      "outputs": [
        {
          "output_type": "execute_result",
          "data": {
            "text/plain": [
              "[560.0, 170.0, 300.0]"
            ]
          },
          "metadata": {},
          "execution_count": 61
        }
      ]
    },
    {
      "cell_type": "code",
      "source": [
        "# Создаем матрицу из ограничений\n",
        "# первый элемент\n",
        "matrix = np.append(all_restr[0], np.zeros(vars + add_vars - len(all_restr[0])))\n",
        "# Остальные циклом\n",
        "for i in range(len(all_restr) - 1):\n",
        "  with_zeroes = np.append(all_restr[i+1], np.zeros(vars + add_vars - len(all_restr[i+1])))\n",
        "  matrix = np.vstack((matrix, with_zeroes))\n",
        "matrix\n",
        "\n",
        "# Добавляем 0 дополнительных переменных в ЦФ\n",
        "target = np.append(target, np.zeros(add_vars))"
      ],
      "metadata": {
        "id": "CEvRiqe4XYmb"
      },
      "execution_count": 62,
      "outputs": []
    },
    {
      "cell_type": "code",
      "source": [
        "# Наши итоговые данные\n",
        "\n",
        "c = target.tolist()\n",
        "A = matrix.tolist()\n",
        "b = all_rs\n",
        "\n",
        "print(c)\n",
        "print(A)\n",
        "print(b)\n",
        "print(vars)"
      ],
      "metadata": {
        "colab": {
          "base_uri": "https://localhost:8080/"
        },
        "id": "fJys7EszYEIi",
        "outputId": "ae6f1ff4-2d23-4820-8cd7-c4c17c05c6c4"
      },
      "execution_count": 63,
      "outputs": [
        {
          "output_type": "stream",
          "name": "stdout",
          "text": [
            "[4.0, 5.0, 0.0, 0.0, 0.0]\n",
            "[[2.0, 4.0, 1.0, 0.0, 0.0], [1.0, 1.0, 0.0, 1.0, 0.0], [2.0, 1.0, 0.0, 0.0, 1.0]]\n",
            "[560.0, 170.0, 300.0]\n",
            "2\n"
          ]
        }
      ]
    },
    {
      "cell_type": "markdown",
      "source": [
        "# Алгоритм симплекс-метода"
      ],
      "metadata": {
        "id": "MsEpVdRMkC2L"
      }
    },
    {
      "cell_type": "code",
      "source": [
        "# Матрица данных, с которыми будем работать\n",
        "\n",
        "xb = [eq + [x] for eq, x in zip(A, b)]\n",
        "z = c + [0]\n",
        "data = xb+[z]\n",
        "\n",
        "data"
      ],
      "metadata": {
        "colab": {
          "base_uri": "https://localhost:8080/"
        },
        "id": "i4T9baQjkVCa",
        "outputId": "f8787f1d-c647-42bd-8ea9-9007d45896a4"
      },
      "execution_count": 64,
      "outputs": [
        {
          "output_type": "execute_result",
          "data": {
            "text/plain": [
              "[[2.0, 4.0, 1.0, 0.0, 0.0, 560.0],\n",
              " [1.0, 1.0, 0.0, 1.0, 0.0, 170.0],\n",
              " [2.0, 1.0, 0.0, 0.0, 1.0, 300.0],\n",
              " [4.0, 5.0, 0.0, 0.0, 0.0, 0]]"
            ]
          },
          "metadata": {},
          "execution_count": 64
        }
      ]
    },
    {
      "cell_type": "code",
      "source": [
        "# Функция выбора позиции\n",
        "def get_position(data):\n",
        "    z = data[-1]\n",
        "    column = next(i for i, x in enumerate(z[:-1]) if x > 0) # ищем индекс первого положительного элемента\n",
        "    # column = max((i for i, x in enumerate(z[:-1]) if x > 0), key=lambda i: z[i])\n",
        "\n",
        "    # Делим все ограничения на элемент от найденного индекса\n",
        "    rest = []\n",
        "    for eq in data[:-1]:\n",
        "        el = eq[column]\n",
        "        # print(el)\n",
        "        rest.append(math.inf if el <= 0 else eq[-1] / el)\n",
        "        # rest.append(eq[-1] / el)\n",
        "        # print(rest)\n",
        "\n",
        "    if (all([r == math.inf for r in rest])):\n",
        "        raise Exception(\"Linear program is unbounded.\")\n",
        "\n",
        "    row = rest.index(min(rest)) # индекс ряда с новым минимальным элементом\n",
        "    return row, column\n",
        "\n",
        "get_position(data)"
      ],
      "metadata": {
        "colab": {
          "base_uri": "https://localhost:8080/"
        },
        "id": "VFHonxucoPyc",
        "outputId": "c0018520-3e98-4a76-ee36-1a277e4ea940"
      },
      "execution_count": 65,
      "outputs": [
        {
          "output_type": "execute_result",
          "data": {
            "text/plain": [
              "(2, 0)"
            ]
          },
          "metadata": {},
          "execution_count": 65
        }
      ]
    },
    {
      "cell_type": "code",
      "source": [
        "def pivot_step(data, pivot_position):\n",
        "    new_data = [[] for eq in data]\n",
        "\n",
        "    i, j = pivot_position\n",
        "    pivot_value = data[i][j] #значение найденной позиции\n",
        "    # print(pivot_value)\n",
        "    new_data[i] = np.array(data[i]) / pivot_value #делим старый ряд на значение найденной позиции\n",
        "\n",
        "    # построчно умнжаем строку старой даты на значение из старой даты, а затем вычитае\n",
        "    for eq_i, eq in enumerate(data):\n",
        "        if eq_i != i:\n",
        "          multiplier = np.array(new_data[i]) * data[eq_i][j]\n",
        "          new_data[eq_i] = np.array(data[eq_i]) - multiplier\n",
        "\n",
        "    return new_data"
      ],
      "metadata": {
        "id": "nZ7r2sA4PbyU"
      },
      "execution_count": 66,
      "outputs": []
    },
    {
      "cell_type": "code",
      "source": [
        "pivot_step(data, (2,0))"
      ],
      "metadata": {
        "colab": {
          "base_uri": "https://localhost:8080/"
        },
        "id": "tHi-g74-RgTg",
        "outputId": "6f625677-7aa6-4bb0-9cd4-c3644c214edc"
      },
      "execution_count": 67,
      "outputs": [
        {
          "output_type": "execute_result",
          "data": {
            "text/plain": [
              "[array([  0.,   3.,   1.,   0.,  -1., 260.]),\n",
              " array([ 0. ,  0.5,  0. ,  1. , -0.5, 20. ]),\n",
              " array([  1. ,   0.5,   0. ,   0. ,   0.5, 150. ]),\n",
              " array([   0.,    3.,    0.,    0.,   -2., -600.])]"
            ]
          },
          "metadata": {},
          "execution_count": 67
        }
      ]
    },
    {
      "cell_type": "code",
      "source": [
        "def get_solution(tab):\n",
        "    columns = np.array(tab).T\n",
        "    # print(columns)\n",
        "    solutions = []\n",
        "    for column in columns[:-1]:\n",
        "        solution = 0\n",
        "        if sum(column) == 1 and len([c for c in column if c == 0]) == len(column) - 1: # базовый ли вектор\n",
        "            one_index = column.tolist().index(1)\n",
        "            solution = columns[-1][one_index]\n",
        "        solutions.append(solution)\n",
        "\n",
        "    return solutions\n",
        "\n",
        "get_solution(data)"
      ],
      "metadata": {
        "colab": {
          "base_uri": "https://localhost:8080/"
        },
        "id": "V3W0uGlYWIJf",
        "outputId": "1e7b5b1f-39fb-4300-bd14-36d5f7502954"
      },
      "execution_count": 72,
      "outputs": [
        {
          "output_type": "execute_result",
          "data": {
            "text/plain": [
              "[0, 0, 560.0, 170.0, 300.0]"
            ]
          },
          "metadata": {},
          "execution_count": 72
        }
      ]
    },
    {
      "cell_type": "code",
      "source": [
        "tdata = data.copy()\n",
        "tdata"
      ],
      "metadata": {
        "colab": {
          "base_uri": "https://localhost:8080/"
        },
        "id": "HhlgRzlBbaTI",
        "outputId": "d636263f-cc73-455e-80e6-2d613dc93fc7"
      },
      "execution_count": 69,
      "outputs": [
        {
          "output_type": "execute_result",
          "data": {
            "text/plain": [
              "[[2.0, 4.0, 1.0, 0.0, 0.0, 560.0],\n",
              " [1.0, 1.0, 0.0, 1.0, 0.0, 170.0],\n",
              " [2.0, 1.0, 0.0, 0.0, 1.0, 300.0],\n",
              " [4.0, 5.0, 0.0, 0.0, 0.0, 0]]"
            ]
          },
          "metadata": {},
          "execution_count": 69
        }
      ]
    },
    {
      "cell_type": "code",
      "source": [
        "tdata = data.copy()\n",
        "def simplex_method(tdata):\n",
        "    while any(x > 0 for x in tdata[-1][:-1]):\n",
        "        pivot_position = get_position(tdata)\n",
        "        tdata = pivot_step(tdata, pivot_position)\n",
        "\n",
        "    return get_solution(tdata)"
      ],
      "metadata": {
        "id": "FiImBuc3WRfO"
      },
      "execution_count": 70,
      "outputs": []
    },
    {
      "cell_type": "code",
      "source": [
        "sol = simplex_method(tdata)\n",
        "np.dot(sol, c)"
      ],
      "metadata": {
        "colab": {
          "base_uri": "https://localhost:8080/"
        },
        "id": "AK1QyUQKZk3C",
        "outputId": "1d9cbd8f-55f2-455c-eb6d-4d07abfd763e"
      },
      "execution_count": 71,
      "outputs": [
        {
          "output_type": "execute_result",
          "data": {
            "text/plain": [
              "790.0"
            ]
          },
          "metadata": {},
          "execution_count": 71
        }
      ]
    }
  ]
}